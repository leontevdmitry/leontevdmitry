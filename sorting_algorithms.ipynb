{
  "nbformat": 4,
  "nbformat_minor": 0,
  "metadata": {
    "colab": {
      "name": "sorting_algorithms.ipynb",
      "provenance": [],
      "toc_visible": true,
      "authorship_tag": "ABX9TyN2hsWT2mNou5LxM796B4xb",
      "include_colab_link": true
    },
    "kernelspec": {
      "name": "python3",
      "display_name": "Python 3"
    },
    "language_info": {
      "name": "python"
    }
  },
  "cells": [
    {
      "cell_type": "markdown",
      "metadata": {
        "id": "view-in-github",
        "colab_type": "text"
      },
      "source": [
        "<a href=\"https://colab.research.google.com/github/leontevdmitry/leontevdmitry/blob/main/sorting_algorithms.ipynb\" target=\"_parent\"><img src=\"https://colab.research.google.com/assets/colab-badge.svg\" alt=\"Open In Colab\"/></a>"
      ]
    },
    {
      "cell_type": "code",
      "source": [
        "from random import randrange"
      ],
      "metadata": {
        "id": "vxrn6fQFilMq"
      },
      "execution_count": null,
      "outputs": []
    },
    {
      "cell_type": "markdown",
      "source": [
        "**Some list of numbers**"
      ],
      "metadata": {
        "id": "Q2A8LJBplpFM"
      }
    },
    {
      "cell_type": "code",
      "execution_count": null,
      "metadata": {
        "colab": {
          "base_uri": "https://localhost:8080/"
        },
        "id": "VRBNlsdqiUjP",
        "outputId": "6839499f-1926-4ba6-a2a5-bbd75f39e531"
      },
      "outputs": [
        {
          "output_type": "execute_result",
          "data": {
            "text/plain": [
              "[51, 48, 27, -26, -28, -78, -63, 94, 3, 64, 1, 90, 35, -27, -26]"
            ]
          },
          "metadata": {},
          "execution_count": 7
        }
      ],
      "source": [
        "some_data = [randrange(-100, 100) for _ in range(randrange(10, 20))]\n",
        "some_data"
      ]
    },
    {
      "cell_type": "markdown",
      "source": [
        "# Buble sort "
      ],
      "metadata": {
        "id": "0v0Vq_4_ogW_"
      }
    },
    {
      "cell_type": "markdown",
      "source": [
        "Bubble sort is a sorting algorithm that compares two adjacent elements and swaps them until they are not in the intended order."
      ],
      "metadata": {
        "id": "KEWhiUc2pbRb"
      }
    },
    {
      "cell_type": "code",
      "source": [
        "def bubble_sort(arr):\n",
        "    for i in range(len(arr)):\n",
        "        for j in range(0, len(arr) - i - 1):\n",
        "            if arr[j] > arr[j+1]:\n",
        "                tmp = arr[j]\n",
        "                arr[j] = arr[j+1]\n",
        "                arr[j+1] = tmp"
      ],
      "metadata": {
        "id": "Ly0rq7MnjrY-"
      },
      "execution_count": null,
      "outputs": []
    },
    {
      "cell_type": "code",
      "source": [
        "copied_data = some_data.copy()\n",
        "bubble_sort(copied_data)\n",
        "print(copied_data)"
      ],
      "metadata": {
        "colab": {
          "base_uri": "https://localhost:8080/"
        },
        "id": "SGPmYF-wkxkk",
        "outputId": "7f43cfe3-9148-44d4-d94e-2d54f9009705"
      },
      "execution_count": null,
      "outputs": [
        {
          "output_type": "stream",
          "name": "stdout",
          "text": [
            "[-78, -63, -28, -27, -26, -26, 1, 3, 27, 35, 48, 51, 64, 90, 94]\n"
          ]
        }
      ]
    },
    {
      "cell_type": "markdown",
      "source": [
        "# Optimized bubble sort"
      ],
      "metadata": {
        "id": "4lDXbIbXosiQ"
      }
    },
    {
      "cell_type": "code",
      "source": [
        "def improved_bubble_sort(arr):\n",
        "    for i in range(len(arr)):\n",
        "        swapped = False\n",
        "        for j in range(0, len(arr) - i - 1):\n",
        "            if arr[j] > arr[j+1]:\n",
        "                tmp = arr[j]\n",
        "                arr[j] = arr[j+1]\n",
        "                arr[j+1] = tmp\n",
        "                swapped = True\n",
        "        if not swapped:\n",
        "            break"
      ],
      "metadata": {
        "id": "i0eORN_qlnal"
      },
      "execution_count": null,
      "outputs": []
    },
    {
      "cell_type": "code",
      "source": [
        "copied_data = some_data.copy()\n",
        "improved_bubble_sort(copied_data)\n",
        "print(copied_data)"
      ],
      "metadata": {
        "colab": {
          "base_uri": "https://localhost:8080/"
        },
        "id": "toMg0XqIm914",
        "outputId": "028e2004-af55-4d00-a108-ddf640a6fe2e"
      },
      "execution_count": null,
      "outputs": [
        {
          "output_type": "stream",
          "name": "stdout",
          "text": [
            "[-78, -63, -28, -27, -26, -26, 1, 3, 27, 35, 48, 51, 64, 90, 94]\n"
          ]
        }
      ]
    },
    {
      "cell_type": "markdown",
      "source": [
        "# Selection sort"
      ],
      "metadata": {
        "id": "xCxBS2VUo5t4"
      }
    },
    {
      "cell_type": "markdown",
      "source": [
        "Selection sort is a sorting algorithm that selects the smallest element from an unsorted list in each iteration and places that element at the beginning of the unsorted list."
      ],
      "metadata": {
        "id": "rlpH0ePYpVBm"
      }
    },
    {
      "cell_type": "code",
      "source": [
        "def selection_sort(array):\n",
        "   \n",
        "    for step in range(len(array)):\n",
        "        min_idx = step\n",
        "\n",
        "        for i in range(step + 1, len(array)):\n",
        "         \n",
        "            # to sort in descending order, change > to < in this line\n",
        "            # select the minimum element in each loop\n",
        "            if array[i] < array[min_idx]:\n",
        "                min_idx = i\n",
        "         \n",
        "        # put min at the correct position\n",
        "        (array[step], array[min_idx]) = (array[min_idx], array[step])\n",
        "\n"
      ],
      "metadata": {
        "id": "CdOEda9wpXQ5"
      },
      "execution_count": null,
      "outputs": []
    },
    {
      "cell_type": "code",
      "source": [
        "copied_data = some_data.copy()\n",
        "selection_sort(copied_data)\n",
        "print(copied_data)"
      ],
      "metadata": {
        "colab": {
          "base_uri": "https://localhost:8080/"
        },
        "id": "pyI1X1BNqUk_",
        "outputId": "06dd024c-9f64-4bd6-975d-ae4c0f460750"
      },
      "execution_count": null,
      "outputs": [
        {
          "output_type": "stream",
          "name": "stdout",
          "text": [
            "[-78, -63, -28, -27, -26, -26, 1, 3, 27, 35, 48, 51, 64, 90, 94]\n"
          ]
        }
      ]
    },
    {
      "cell_type": "markdown",
      "source": [
        "# Insertion sort"
      ],
      "metadata": {
        "id": "1QYz3KasX2cy"
      }
    },
    {
      "cell_type": "markdown",
      "source": [
        "Insertion sort is a sorting algorithm that places an unsorted element at its suitable place in each iteration."
      ],
      "metadata": {
        "id": "BuS8g8EuYFAo"
      }
    },
    {
      "cell_type": "code",
      "source": [
        "def insertion_sort(arr):\n",
        "    for step in range(1, len(arr)):\n",
        "        key = arr[step]\n",
        "\n",
        "        j = step - 1\n",
        "        # Compare key with each element on the left of it until an element smaller than it is found\n",
        "        # For descending order, change key<array[j] to key>array[j].     \n",
        "        while j >= 0 and key < arr[j]:\n",
        "            arr[j + 1] = arr[j]\n",
        "            j = j - 1\n",
        "        \n",
        "        # Place key at after the element just smaller than it.\n",
        "        arr[j + 1] = key"
      ],
      "metadata": {
        "id": "yZNkzdy8X5Za"
      },
      "execution_count": null,
      "outputs": []
    },
    {
      "cell_type": "code",
      "source": [
        "copied_data = some_data.copy()\n",
        "insertion_sort(copied_data)\n",
        "print(copied_data)"
      ],
      "metadata": {
        "colab": {
          "base_uri": "https://localhost:8080/"
        },
        "id": "iPoW8ETBY7v6",
        "outputId": "0314c98b-41ba-4fd7-916c-3a279ed07e02"
      },
      "execution_count": null,
      "outputs": [
        {
          "output_type": "stream",
          "name": "stdout",
          "text": [
            "[-78, -63, -28, -27, -26, -26, 1, 3, 27, 35, 48, 51, 64, 90, 94]\n"
          ]
        }
      ]
    },
    {
      "cell_type": "markdown",
      "source": [
        "# Merge sort"
      ],
      "metadata": {
        "id": "1TWXrujIZlIS"
      }
    },
    {
      "cell_type": "markdown",
      "source": [
        "Merge Sort is one of the most popular sorting algorithms that is based on the principle of Divide and Conquer Algorithm."
      ],
      "metadata": {
        "id": "fjdAK2LeZvhV"
      }
    },
    {
      "cell_type": "code",
      "source": [
        "from abc import abstractproperty\n",
        "def merge_sort(arr):\n",
        "    if len(arr) > 1:\n",
        "        #  r is the point where the array is divided into two subarrays\n",
        "        r = len(arr)//2\n",
        "        #  L and M is two subarrays\n",
        "        L = arr[:r]\n",
        "        M = arr[r:]\n",
        "\n",
        "        #  sort two parts\n",
        "        merge_sort(L)\n",
        "        merge_sort(M)\n",
        "\n",
        "        i = j = k = 0\n",
        "        # Until we reach either end of either L or M, pick larger among\n",
        "        # elements L and M and place them in the correct position at A[p..r]\n",
        "        while i < len(L) and j < len(M):\n",
        "            if L[i] < M[j]:\n",
        "                arr[k] = L[i]\n",
        "                i += 1\n",
        "            else:\n",
        "                arr[k] = M[j]\n",
        "                j += 1\n",
        "            k += 1\n",
        "\n",
        "        # When we run out of elements in either L or M,\n",
        "        # pick up the remaining elements and put in A[p..r]\n",
        "        while i < len(L):\n",
        "            arr[k] = L[i]\n",
        "            i += 1\n",
        "            k += 1\n",
        "\n",
        "        while j < len(M):\n",
        "            arr[k] = M[j]\n",
        "            j += 1\n",
        "            k += 1"
      ],
      "metadata": {
        "id": "pvcj8sYQZvEB"
      },
      "execution_count": null,
      "outputs": []
    },
    {
      "cell_type": "code",
      "source": [
        "copied_data = some_data.copy()\n",
        "merge_sort(copied_data)\n",
        "print(copied_data)"
      ],
      "metadata": {
        "colab": {
          "base_uri": "https://localhost:8080/"
        },
        "id": "OEuhy5ozb_tB",
        "outputId": "05be55a3-efb6-46f2-bc67-6dd54160f1ce"
      },
      "execution_count": null,
      "outputs": [
        {
          "output_type": "stream",
          "name": "stdout",
          "text": [
            "[-78, -63, -28, -27, -26, -26, 1, 3, 27, 35, 48, 51, 64, 90, 94]\n"
          ]
        }
      ]
    },
    {
      "cell_type": "markdown",
      "source": [
        "# Quick sort"
      ],
      "metadata": {
        "id": "4baBew5ihqRN"
      }
    },
    {
      "cell_type": "code",
      "source": [
        "def quick_sort(arr):\n",
        "    pass"
      ],
      "metadata": {
        "id": "JU0Vk5yrhuxv"
      },
      "execution_count": null,
      "outputs": []
    }
  ]
}